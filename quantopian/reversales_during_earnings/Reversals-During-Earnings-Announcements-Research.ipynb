{
 "cells": [
  {
   "cell_type": "code",
   "execution_count": 10,
   "metadata": {
    "collapsed": true
   },
   "outputs": [],
   "source": [
    "from quantopian.research import run_pipeline\n",
    "\n",
    "from quantopian.pipeline import Pipeline\n",
    "from quantopian.pipeline.data.builtin import USEquityPricing\n",
    "from quantopian.pipeline.factors import AverageDollarVolume, Returns\n",
    "from quantopian.pipeline.factors.eventvestor import BusinessDaysUntilNextEarnings\n",
    "from quantopian.pipeline.filters.morningstar import Q500US"
   ]
  },
  {
   "cell_type": "code",
   "execution_count": 12,
   "metadata": {
    "collapsed": false
   },
   "outputs": [],
   "source": [
    "def make_pipeline():\n",
    "    adv = AverageDollarVolume(\n",
    "        window_length=30,\n",
    "        mask=USEquityPricing.volume.latest > 0,\n",
    "    )\n",
    "    pipe= Pipeline(\n",
    "        columns={\n",
    "            'returns_quantile': Returns(\n",
    "                window_length=5,\n",
    "                mask=adv.notnan()\n",
    "            ).quantiles(5),\n",
    "        },\n",
    "        screen=((BusinessDaysUntilNextEarnings().eq(1))\n",
    "                & Q500US() & adv.percentile_between(95, 100))\n",
    "    )\n",
    "    return pipe"
   ]
  },
  {
   "cell_type": "code",
   "execution_count": 22,
   "metadata": {
    "collapsed": false
   },
   "outputs": [],
   "source": [
    "# Run the pipeline we create above. With the free Eventvestor data, only able\n",
    "#    to use data until 2 years ago from today\n",
    "result = run_pipeline(make_pipeline(), start_date='2015-09-12', end_date='2015-09-16')"
   ]
  },
  {
   "cell_type": "code",
   "execution_count": 24,
   "metadata": {
    "collapsed": false
   },
   "outputs": [
    {
     "data": {
      "text/plain": [
       "<class 'pandas.core.frame.DataFrame'>"
      ]
     },
     "execution_count": 24,
     "metadata": {},
     "output_type": "execute_result"
    }
   ],
   "source": [
    "type(result)"
   ]
  },
  {
   "cell_type": "code",
   "execution_count": 23,
   "metadata": {
    "collapsed": false
   },
   "outputs": [
    {
     "data": {
      "text/html": [
       "<div>\n",
       "<table border=\"1\" class=\"dataframe\">\n",
       "  <thead>\n",
       "    <tr style=\"text-align: right;\">\n",
       "      <th></th>\n",
       "      <th></th>\n",
       "      <th>returns_quantile</th>\n",
       "    </tr>\n",
       "  </thead>\n",
       "  <tbody>\n",
       "    <tr>\n",
       "      <th>2015-10-12 00:00:00+00:00</th>\n",
       "      <th>Equity(4151 [JNJ])</th>\n",
       "      <td>1</td>\n",
       "    </tr>\n",
       "    <tr>\n",
       "      <th rowspan=\"7\" valign=\"top\">2015-10-13 00:00:00+00:00</th>\n",
       "      <th>Equity(700 [BAC])</th>\n",
       "      <td>0</td>\n",
       "    </tr>\n",
       "    <tr>\n",
       "      <th>Equity(1937 [CSX])</th>\n",
       "      <td>3</td>\n",
       "    </tr>\n",
       "    <tr>\n",
       "      <th>Equity(6068 [PNC])</th>\n",
       "      <td>0</td>\n",
       "    </tr>\n",
       "    <tr>\n",
       "      <th>Equity(8151 [WFC])</th>\n",
       "      <td>1</td>\n",
       "    </tr>\n",
       "    <tr>\n",
       "      <th>Equity(20689 [BLK])</th>\n",
       "      <td>1</td>\n",
       "    </tr>\n",
       "    <tr>\n",
       "      <th>Equity(25006 [JPM])</th>\n",
       "      <td>0</td>\n",
       "    </tr>\n",
       "    <tr>\n",
       "      <th>Equity(33729 [DAL])</th>\n",
       "      <td>4</td>\n",
       "    </tr>\n",
       "    <tr>\n",
       "      <th rowspan=\"9\" valign=\"top\">2015-10-14 00:00:00+00:00</th>\n",
       "      <th>Equity(1335 [C])</th>\n",
       "      <td>2</td>\n",
       "    </tr>\n",
       "    <tr>\n",
       "      <th>Equity(6116 [PPG])</th>\n",
       "      <td>4</td>\n",
       "    </tr>\n",
       "    <tr>\n",
       "      <th>Equity(6704 [SCHW])</th>\n",
       "      <td>2</td>\n",
       "    </tr>\n",
       "    <tr>\n",
       "      <th>Equity(7792 [UNH])</th>\n",
       "      <td>4</td>\n",
       "    </tr>\n",
       "    <tr>\n",
       "      <th>Equity(16850 [BBT])</th>\n",
       "      <td>1</td>\n",
       "    </tr>\n",
       "    <tr>\n",
       "      <th>Equity(20088 [GS])</th>\n",
       "      <td>1</td>\n",
       "    </tr>\n",
       "    <tr>\n",
       "      <th>Equity(23709 [NFLX])</th>\n",
       "      <td>3</td>\n",
       "    </tr>\n",
       "    <tr>\n",
       "      <th>Equity(25010 [USB])</th>\n",
       "      <td>1</td>\n",
       "    </tr>\n",
       "    <tr>\n",
       "      <th>Equity(35902 [PM])</th>\n",
       "      <td>4</td>\n",
       "    </tr>\n",
       "    <tr>\n",
       "      <th rowspan=\"5\" valign=\"top\">2015-10-15 00:00:00+00:00</th>\n",
       "      <th>Equity(3149 [GE])</th>\n",
       "      <td>1</td>\n",
       "    </tr>\n",
       "    <tr>\n",
       "      <th>Equity(6928 [SLB])</th>\n",
       "      <td>1</td>\n",
       "    </tr>\n",
       "    <tr>\n",
       "      <th>Equity(7152 [STI])</th>\n",
       "      <td>1</td>\n",
       "    </tr>\n",
       "    <tr>\n",
       "      <th>Equity(24124 [WYNN])</th>\n",
       "      <td>0</td>\n",
       "    </tr>\n",
       "    <tr>\n",
       "      <th>Equity(25090 [HON])</th>\n",
       "      <td>1</td>\n",
       "    </tr>\n",
       "    <tr>\n",
       "      <th rowspan=\"3\" valign=\"top\">2015-10-16 00:00:00+00:00</th>\n",
       "      <th>Equity(3443 [HAL])</th>\n",
       "      <td>1</td>\n",
       "    </tr>\n",
       "    <tr>\n",
       "      <th>Equity(3766 [IBM])</th>\n",
       "      <td>1</td>\n",
       "    </tr>\n",
       "    <tr>\n",
       "      <th>Equity(17080 [MS])</th>\n",
       "      <td>4</td>\n",
       "    </tr>\n",
       "  </tbody>\n",
       "</table>\n",
       "</div>"
      ],
      "text/plain": [
       "                                                returns_quantile\n",
       "2015-10-12 00:00:00+00:00 Equity(4151 [JNJ])                   1\n",
       "2015-10-13 00:00:00+00:00 Equity(700 [BAC])                    0\n",
       "                          Equity(1937 [CSX])                   3\n",
       "                          Equity(6068 [PNC])                   0\n",
       "                          Equity(8151 [WFC])                   1\n",
       "                          Equity(20689 [BLK])                  1\n",
       "                          Equity(25006 [JPM])                  0\n",
       "                          Equity(33729 [DAL])                  4\n",
       "2015-10-14 00:00:00+00:00 Equity(1335 [C])                     2\n",
       "                          Equity(6116 [PPG])                   4\n",
       "                          Equity(6704 [SCHW])                  2\n",
       "                          Equity(7792 [UNH])                   4\n",
       "                          Equity(16850 [BBT])                  1\n",
       "                          Equity(20088 [GS])                   1\n",
       "                          Equity(23709 [NFLX])                 3\n",
       "                          Equity(25010 [USB])                  1\n",
       "                          Equity(35902 [PM])                   4\n",
       "2015-10-15 00:00:00+00:00 Equity(3149 [GE])                    1\n",
       "                          Equity(6928 [SLB])                   1\n",
       "                          Equity(7152 [STI])                   1\n",
       "                          Equity(24124 [WYNN])                 0\n",
       "                          Equity(25090 [HON])                  1\n",
       "2015-10-16 00:00:00+00:00 Equity(3443 [HAL])                   1\n",
       "                          Equity(3766 [IBM])                   1\n",
       "                          Equity(17080 [MS])                   4"
      ]
     },
     "execution_count": 23,
     "metadata": {},
     "output_type": "execute_result"
    }
   ],
   "source": [
    "result"
   ]
  }
 ],
 "metadata": {
  "kernelspec": {
   "display_name": "Python 2",
   "language": "python",
   "name": "python2"
  },
  "language_info": {
   "codemirror_mode": {
    "name": "ipython",
    "version": 2
   },
   "file_extension": ".py",
   "mimetype": "text/x-python",
   "name": "python",
   "nbconvert_exporter": "python",
   "pygments_lexer": "ipython2",
   "version": "2.7.12"
  }
 },
 "nbformat": 4,
 "nbformat_minor": 2
}